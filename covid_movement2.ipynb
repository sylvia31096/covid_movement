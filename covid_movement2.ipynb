{
 "cells": [
  {
   "cell_type": "code",
   "execution_count": 2,
   "id": "9ee0a843-fe4b-4a0f-abbb-7dabeb3499cb",
   "metadata": {},
   "outputs": [],
   "source": [
    "from episuite.mobility import facebook"
   ]
  },
  {
   "cell_type": "code",
   "execution_count": 3,
   "id": "9a956285-3c04-410d-9442-aae10aa98dd6",
   "metadata": {},
   "outputs": [],
   "source": [
    "client = facebook.FacebookMovementRange()"
   ]
  },
  {
   "cell_type": "code",
   "execution_count": 3,
   "id": "0d004a32-1f3a-48da-87f5-cb78aefa6c2d",
   "metadata": {},
   "outputs": [
    {
     "data": {
      "application/vnd.jupyter.widget-view+json": {
       "model_id": "dda6c30f43f64b57940660f79c4675eb",
       "version_major": 2,
       "version_minor": 0
      },
      "text/plain": [
       "Downloading movement range data:   0%|          | 0.00/53.9M [00:00<?, ?iB/s]"
      ]
     },
     "metadata": {},
     "output_type": "display_data"
    }
   ],
   "source": [
    "mrange_data = client.load_movement_range(country_code=\"KEN\")"
   ]
  },
  {
   "cell_type": "code",
   "execution_count": 4,
   "id": "9f9a5f51",
   "metadata": {},
   "outputs": [
    {
     "data": {
      "application/vnd.jupyter.widget-view+json": {
       "model_id": "ec7c801b15f5468a96ce4228c530c51d",
       "version_major": 2,
       "version_minor": 0
      },
      "text/plain": [
       "Downloading movement range data:   0%|          | 0.00/53.9M [00:00<?, ?iB/s]"
      ]
     },
     "metadata": {},
     "output_type": "display_data"
    }
   ],
   "source": [
    "mrange_data_pre = client.load_movement_range(country_code=\"KEN\", show_progress=True)"
   ]
  },
  {
   "cell_type": "code",
   "execution_count": null,
   "id": "75fe9c91",
   "metadata": {},
   "outputs": [],
   "source": [
    "mrange_data_pre = client.load_movement_range(country_code=\"KEN\")"
   ]
  },
  {
   "cell_type": "code",
   "execution_count": 4,
   "id": "f978ae5b-dc82-49a0-9dea-0c72020db15e",
   "metadata": {},
   "outputs": [],
   "source": [
    "mrange_data_pre.to_csv('movement_ken_all.csv')"
   ]
  },
  {
   "cell_type": "code",
   "execution_count": null,
   "id": "3c993675-1b5f-4dda-b305-4072b9e7dafc",
   "metadata": {},
   "outputs": [],
   "source": [
    "mrange_data.tail(8)\n"
   ]
  }
 ],
 "metadata": {
  "kernelspec": {
   "display_name": "Python 3 (ipykernel)",
   "language": "python",
   "name": "python3"
  },
  "language_info": {
   "codemirror_mode": {
    "name": "ipython",
    "version": 3
   },
   "file_extension": ".py",
   "mimetype": "text/x-python",
   "name": "python",
   "nbconvert_exporter": "python",
   "pygments_lexer": "ipython3",
   "version": "3.8.10"
  }
 },
 "nbformat": 4,
 "nbformat_minor": 5
}
